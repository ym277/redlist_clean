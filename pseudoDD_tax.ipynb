{
 "cells": [
  {
   "cell_type": "code",
   "execution_count": 1,
   "id": "ee31d58b",
   "metadata": {},
   "outputs": [],
   "source": [
    "import pandas as pd\n",
    "import pandas as pd\n",
    "import numpy as np\n",
    "import ast  # For safe evaluation of Python-like strings\n",
    "from transformers import BertTokenizer\n",
    "import pickle as pkl\n",
    "from dataset import RedlistDataset\n",
    "from torch.utils.data import DataLoader\n",
    "import torch\n",
    "import torch.nn as nn\n",
    "from transformers import AdamW\n",
    "from model_tax import RedlistPredictor\n",
    "from tqdm import tqdm\n",
    "from transformers import get_scheduler\n",
    "import os\n",
    "from sklearn.metrics import precision_recall_fscore_support, accuracy_score\n",
    "import seaborn as sns\n",
    "import numpy as np\n",
    "from sklearn.metrics import confusion_matrix\n",
    "import matplotlib.pyplot as plt"
   ]
  },
  {
   "cell_type": "code",
   "execution_count": 2,
   "id": "a707b406",
   "metadata": {},
   "outputs": [],
   "source": [
    "with open(\"data/data_splits.pkl\", \"rb\") as f:\n",
    "    data = pkl.load(f)\n",
    "    unknown_values = pkl.load(f)\n",
    "\n",
    "df_train = data[\"train\"]\n",
    "df_test = data[\"test\"]\n",
    "df_deficient = data[\"deficient\"]"
   ]
  },
  {
   "cell_type": "code",
   "execution_count": 3,
   "id": "9c0e7484",
   "metadata": {},
   "outputs": [],
   "source": [
    "textural_cols = ['rationale', 'habitat', 'threats', 'population', 'range', 'useTrade', 'conservationActions']\n",
    "for col in textural_cols:\n",
    "    unknown_values[col] = 'no information'"
   ]
  },
  {
   "cell_type": "code",
   "execution_count": 4,
   "id": "aa9ee632",
   "metadata": {},
   "outputs": [],
   "source": [
    "# df_pseudoDD = df_test.copy()"
   ]
  },
  {
   "cell_type": "code",
   "execution_count": null,
   "id": "6f0bcb29",
   "metadata": {},
   "outputs": [],
   "source": []
  },
  {
   "cell_type": "code",
   "execution_count": 5,
   "id": "a00e5d62",
   "metadata": {},
   "outputs": [],
   "source": [
    "with open(\"data/pseudoDD\", \"rb\") as f:\n",
    "    df_pseudoDD = pkl.load(f)\n",
    "    pseo_preds = pkl.load(f)"
   ]
  },
  {
   "cell_type": "code",
   "execution_count": 6,
   "id": "79de48bd",
   "metadata": {},
   "outputs": [
    {
     "data": {
      "text/plain": [
       "{'populationTrend': [0.5044352105619898,\n",
       "  0.9515558698727016,\n",
       "  0.9539176139836206],\n",
       " 'realm_vector': [0.20478590162968202,\n",
       "  0.25624705327675623,\n",
       "  0.2679379049016013],\n",
       " 'systems_vector': [0.0, 0.0, 0.0],\n",
       " 'possiblyExtinct': [0.0, 0.0, 0.0],\n",
       " 'possiblyExtinctInTheWild': [0.0, 0.0, 0.0],\n",
       " 'rationale': [0.05275100934193853, 0.20462046204620463, 0.21329910768854662],\n",
       " 'habitat': [0.0634780302360534, 0.132013201320132, 0.13629140691846964],\n",
       " 'threats': [0.09433295022544426, 0.49222065063649223, 0.5344089964552011],\n",
       " 'population': [0.20245778445760765, 0.3609146628948609, 0.3995844028847329],\n",
       " 'range': [0.02410632717413727, 0.061291843470061294, 0.061850629507395186],\n",
       " 'useTrade': [0.07856658709810509, 0.1379066478076379, 0.11758953673145092],\n",
       " 'conservationActions': [0.07818347920902956,\n",
       "  0.14933993399339934,\n",
       "  0.15633785600782302]}"
      ]
     },
     "execution_count": 6,
     "metadata": {},
     "output_type": "execute_result"
    }
   ],
   "source": [
    "fractions = {}\n",
    "\n",
    "for col in unknown_values.keys():\n",
    "    fracs = []\n",
    "    for df_split in [df_train, df_pseudoDD, df_deficient]:\n",
    "        if col in textural_cols:\n",
    "            # Compare strings\n",
    "            # match_fraction = len(df_split[df_split[col]==unknown_values[col]]) / len(df_split)\n",
    "            match_fraction = df_split[col].str.lower().apply(lambda x: x == 'no information' or any(substring in x for substring in ['no information', 'unknown', 'not known'])).mean()\n",
    "        elif col in ['populationTrend', 'possiblyExtinct', 'possiblyExtinctInTheWild']:\n",
    "            # Compare floats with 1e-5 tolerance\n",
    "            match_fraction = (abs(df_split[col] - unknown_values[col]) < 1e-5).mean()\n",
    "        else:\n",
    "            # Compare numpy arrays\n",
    "            match_fraction = df_split[col].apply(lambda x: np.array_equal(x, unknown_values[col])).mean()\n",
    "        fracs.append(match_fraction)\n",
    "    \n",
    "    fractions[col] = fracs\n",
    "\n",
    "fractions"
   ]
  },
  {
   "cell_type": "code",
   "execution_count": 7,
   "id": "56d673c4",
   "metadata": {},
   "outputs": [],
   "source": [
    "# Compare the two DataFrames column by column and count the number of differing cells\n",
    "# num_differing_cells = 0\n",
    "\n",
    "# for col in df_test.columns:\n",
    "# \tif df_test[col].dtype == 'object':  # Handle object columns\n",
    "# \t\tnum_differing_cells += (df_test[col].apply(str) != df_pseudoDD[col].apply(str)).sum()\n",
    "# \telif df_test[col].dtype == 'float64' or df_test[col].dtype == 'int64':  # Handle numeric columns\n",
    "# \t\tnum_differing_cells += (df_test[col] != df_pseudoDD[col]).sum()\n",
    "# \telse:  # Handle array-like columns\n",
    "# \t\tnum_differing_cells += df_test[col].apply(lambda x: not np.array_equal(x, df_pseudoDD.loc[x.name, col])).sum()\n",
    "\n",
    "# print(f\"Number of differing cells: {num_differing_cells}\")"
   ]
  },
  {
   "cell_type": "code",
   "execution_count": 8,
   "id": "50bd35b2",
   "metadata": {},
   "outputs": [
    {
     "name": "stderr",
     "output_type": "stream",
     "text": [
      "/home/fs01/ym277/miniconda3/envs/dam/lib/python3.8/site-packages/huggingface_hub/file_download.py:1132: FutureWarning: `resume_download` is deprecated and will be removed in version 1.0.0. Downloads always resume when possible. If you want to force a new download, use `force_download=True`.\n",
      "  warnings.warn(\n",
      "/home/fs01/ym277/miniconda3/envs/dam/lib/python3.8/site-packages/transformers/optimization.py:521: FutureWarning: This implementation of AdamW is deprecated and will be removed in a future version. Use the PyTorch implementation torch.optim.AdamW instead, or set `no_deprecation_warning=True` to disable this warning\n",
      "  warnings.warn(\n"
     ]
    }
   ],
   "source": [
    "device = torch.device('cuda' if torch.cuda.is_available() else 'cpu')\n",
    "tax_vocab_size = {\n",
    "    'className_idx': 8,\n",
    "    'orderName_idx': 101,\n",
    "    'familyName_idx': 878,\n",
    "    'genusName_idx': 7618\n",
    "}\n",
    "\n",
    "model = RedlistPredictor(\n",
    "    bert_model_name='bert-base-uncased',\n",
    "    structured_input_dim=len(df_train.iloc[0]['structured_vector']),\n",
    "    taxonomy_vocab_sizes=tax_vocab_size,\n",
    "    hidden_dim=256,\n",
    "    num_classes=6,\n",
    ").to(device)\n",
    "\n",
    "optimizer = AdamW(model.parameters(), lr=2e-5)\n",
    "criterion = nn.CrossEntropyLoss()"
   ]
  },
  {
   "cell_type": "code",
   "execution_count": 20,
   "id": "f543dc42",
   "metadata": {},
   "outputs": [],
   "source": [
    "def evaluate(model, loader, criterion):\n",
    "    model.eval()\n",
    "    total_loss = 0\n",
    "    all_preds = []\n",
    "    all_labels = []\n",
    "\n",
    "    with torch.no_grad():\n",
    "        for batch in tqdm(loader):\n",
    "            # print(batch.keys())\n",
    "            input_ids = batch['input_ids'].to(device)\n",
    "            attention_mask = batch['attention_mask'].to(device)\n",
    "            structured_input = batch['structured_input'].to(device)\n",
    "            labels = batch['label'].to(device)\n",
    "            taxonomy = batch['taxonomy'].to(device)\n",
    "\n",
    "            logits = model(input_ids, attention_mask, structured_input, taxonomy)\n",
    "            loss = criterion(logits, labels)\n",
    "            total_loss += loss.item()\n",
    "\n",
    "            preds = torch.argmax(logits, dim=1)\n",
    "            all_preds.extend(preds.cpu().numpy())\n",
    "            all_labels.extend(labels.cpu().numpy())\n",
    "\n",
    "    avg_loss = total_loss / len(loader)\n",
    "    accuracy = accuracy_score(all_labels, all_preds)\n",
    "    precision, recall, f1, _ = precision_recall_fscore_support(\n",
    "        all_labels, all_preds, average='macro', zero_division=0\n",
    "    )\n",
    "\n",
    "    print(f\"Accuracy: {accuracy:.4f}\")\n",
    "    print(f\"Precision: {precision:.4f}\")\n",
    "    print(f\"Recall: {recall:.4f}\")\n",
    "    print(f\"F1 Score: {f1:.4f}\")\n",
    "    print(f\"Loss: {avg_loss:.4f}\")\n",
    "\n",
    "    return {\n",
    "        'loss': avg_loss,\n",
    "        'accuracy': accuracy,\n",
    "        'precision': precision,\n",
    "        'recall': recall,\n",
    "        'f1': f1\n",
    "    }, all_preds\n"
   ]
  },
  {
   "cell_type": "code",
   "execution_count": 10,
   "id": "c171ad5e",
   "metadata": {},
   "outputs": [
    {
     "data": {
      "text/plain": [
       "RedlistPredictor(\n",
       "  (bert): BertModel(\n",
       "    (embeddings): BertEmbeddings(\n",
       "      (word_embeddings): Embedding(30522, 768, padding_idx=0)\n",
       "      (position_embeddings): Embedding(512, 768)\n",
       "      (token_type_embeddings): Embedding(2, 768)\n",
       "      (LayerNorm): LayerNorm((768,), eps=1e-12, elementwise_affine=True)\n",
       "      (dropout): Dropout(p=0.1, inplace=False)\n",
       "    )\n",
       "    (encoder): BertEncoder(\n",
       "      (layer): ModuleList(\n",
       "        (0-11): 12 x BertLayer(\n",
       "          (attention): BertAttention(\n",
       "            (self): BertSelfAttention(\n",
       "              (query): Linear(in_features=768, out_features=768, bias=True)\n",
       "              (key): Linear(in_features=768, out_features=768, bias=True)\n",
       "              (value): Linear(in_features=768, out_features=768, bias=True)\n",
       "              (dropout): Dropout(p=0.1, inplace=False)\n",
       "            )\n",
       "            (output): BertSelfOutput(\n",
       "              (dense): Linear(in_features=768, out_features=768, bias=True)\n",
       "              (LayerNorm): LayerNorm((768,), eps=1e-12, elementwise_affine=True)\n",
       "              (dropout): Dropout(p=0.1, inplace=False)\n",
       "            )\n",
       "          )\n",
       "          (intermediate): BertIntermediate(\n",
       "            (dense): Linear(in_features=768, out_features=3072, bias=True)\n",
       "            (intermediate_act_fn): GELUActivation()\n",
       "          )\n",
       "          (output): BertOutput(\n",
       "            (dense): Linear(in_features=3072, out_features=768, bias=True)\n",
       "            (LayerNorm): LayerNorm((768,), eps=1e-12, elementwise_affine=True)\n",
       "            (dropout): Dropout(p=0.1, inplace=False)\n",
       "          )\n",
       "        )\n",
       "      )\n",
       "    )\n",
       "    (pooler): BertPooler(\n",
       "      (dense): Linear(in_features=768, out_features=768, bias=True)\n",
       "      (activation): Tanh()\n",
       "    )\n",
       "  )\n",
       "  (text_proj): Linear(in_features=768, out_features=256, bias=True)\n",
       "  (taxo_embeddings): ModuleDict(\n",
       "    (className_idx): Embedding(8, 8)\n",
       "    (orderName_idx): Embedding(101, 8)\n",
       "    (familyName_idx): Embedding(878, 8)\n",
       "    (genusName_idx): Embedding(7618, 8)\n",
       "  )\n",
       "  (struct_proj): Linear(in_features=47, out_features=256, bias=True)\n",
       "  (combined_proj): Sequential(\n",
       "    (0): ReLU()\n",
       "    (1): Linear(in_features=512, out_features=256, bias=True)\n",
       "    (2): ReLU()\n",
       "    (3): Dropout(p=0.2, inplace=False)\n",
       "    (4): Linear(in_features=256, out_features=6, bias=True)\n",
       "  )\n",
       ")"
      ]
     },
     "execution_count": 10,
     "metadata": {},
     "output_type": "execute_result"
    }
   ],
   "source": [
    "checkpoint_path = f\"checkpoints_tax/checkpoint_epoch_4.pt\"\n",
    "checkpoint = torch.load(checkpoint_path)\n",
    "model.load_state_dict(checkpoint['model_state_dict'])\n",
    "model.eval()"
   ]
  },
  {
   "cell_type": "code",
   "execution_count": 11,
   "id": "4a9b2969",
   "metadata": {},
   "outputs": [],
   "source": [
    "def parse_vector_string(v):\n",
    "    # Handles strings like \"[1 0 0]\" → array([1, 0, 0])\n",
    "    return np.array([int(i) for i in v.strip('[]').split()], dtype=np.int32)\n",
    "\n",
    "# Load CSV\n",
    "# df = pd.read_csv(\"data/df_processed.csv\")  # replace with actual path\n",
    "\n",
    "# Parse vectors\n",
    "# df['realm_vector'] = df['realm_vector'].apply(parse_vector_string)\n",
    "# df['systems_vector'] = df['systems_vector'].apply(parse_vector_string)\n",
    "\n",
    "# Combine structured features into one array\n",
    "df_pseudoDD['structured_vector'] = df_pseudoDD.apply(\n",
    "    lambda row: np.concatenate([\n",
    "        np.array([row['populationTrend']]), \n",
    "        np.array([row['possiblyExtinct']]), \n",
    "        np.array([row['possiblyExtinctInTheWild']]), \n",
    "        row['realm_vector'], \n",
    "        row['systems_vector']\n",
    "    ]),\n",
    "    axis=1\n",
    ")\n",
    "\n",
    "text_cols = ['rationale', 'habitat', 'threats', 'population', 'range', 'useTrade', 'conservationActions']\n",
    "df_pseudoDD['text_input'] = df_pseudoDD[text_cols].fillna(\"No information\").agg(\" [SEP] \".join, axis=1)"
   ]
  },
  {
   "cell_type": "code",
   "execution_count": 18,
   "id": "54f35758",
   "metadata": {},
   "outputs": [
    {
     "name": "stderr",
     "output_type": "stream",
     "text": [
      "/home/fs01/ym277/miniconda3/envs/dam/lib/python3.8/site-packages/huggingface_hub/file_download.py:1132: FutureWarning: `resume_download` is deprecated and will be removed in version 1.0.0. Downloads always resume when possible. If you want to force a new download, use `force_download=True`.\n",
      "  warnings.warn(\n"
     ]
    }
   ],
   "source": [
    "taxonomy_levels=['className_idx', 'orderName_idx', 'familyName_idx', 'genusName_idx']\n",
    "tokenizer = BertTokenizer.from_pretrained('bert-base-uncased')\n",
    "train_dataset = RedlistDataset(df_train, tokenizer, taxonomy_levels)\n",
    "test_dataset = RedlistDataset(df_test, tokenizer, taxonomy_levels)\n",
    "pseodoDD_dataset = RedlistDataset(df_pseudoDD, tokenizer, taxonomy_levels)\n",
    "\n",
    "\n",
    "batch_size = 16\n",
    "train_loader = DataLoader(train_dataset, batch_size=batch_size, shuffle=True)\n",
    "test_loader = DataLoader(test_dataset, batch_size=16)\n",
    "pseodoDD_loader = DataLoader(pseodoDD_dataset, batch_size=16)"
   ]
  },
  {
   "cell_type": "code",
   "execution_count": 21,
   "id": "0c2175ee",
   "metadata": {},
   "outputs": [
    {
     "name": "stderr",
     "output_type": "stream",
     "text": [
      "100%|██████████| 531/531 [02:14<00:00,  3.95it/s]"
     ]
    },
    {
     "name": "stdout",
     "output_type": "stream",
     "text": [
      "Accuracy: 0.9296\n",
      "Precision: 0.8499\n",
      "Recall: 0.8507\n",
      "F1 Score: 0.8476\n",
      "Loss: 0.2951\n"
     ]
    },
    {
     "name": "stderr",
     "output_type": "stream",
     "text": [
      "\n"
     ]
    }
   ],
   "source": [
    "pseodo_res, pseo_preds = evaluate(model, pseodoDD_loader, criterion)"
   ]
  },
  {
   "cell_type": "code",
   "execution_count": 16,
   "id": "69f7ecb2",
   "metadata": {},
   "outputs": [],
   "source": [
    "label_to_category = {\n",
    "    0: 'Least Concern',\n",
    "    1: 'Near Threatened',\n",
    "    2: 'Vulnerable',\n",
    "    3: 'Endangered',\n",
    "    4: 'Critically Endangered',\n",
    "    5: 'Extinct'\n",
    "}"
   ]
  },
  {
   "cell_type": "code",
   "execution_count": 17,
   "id": "45ce0a1a",
   "metadata": {},
   "outputs": [],
   "source": [
    "class_labels = [f'{id}: {label_to_category[id]}' for id in range(6)]\n",
    "\n",
    "def plot_confusion_matrix(true_labels, predicted_labels, is_normalized, title_str=''):\n",
    "    \n",
    "    if is_normalized:\n",
    "        cm = confusion_matrix(true_labels, predicted_labels, normalize='true')\n",
    "    else:\n",
    "        cm = confusion_matrix(true_labels, predicted_labels)\n",
    "\n",
    "    # Plot the confusion matrix\n",
    "    plt.figure(figsize=(10, 8))\n",
    "    \n",
    "    sns.heatmap(cm, annot=True, fmt=\".3f\", cmap=\"Blues\", xticklabels=range(6), yticklabels=class_labels)\n",
    "\n",
    "    plt.xlabel(\"Predicted Labels\")\n",
    "    plt.ylabel(\"True Labels\")\n",
    "    if is_normalized:\n",
    "        plt.title(\"Confusion Matrix (Normalized)\"+title_str)\n",
    "    else:\n",
    "        plt.title(\"Confusion Matrix (Raw Counts)\"+title_str)\n",
    "    plt.show()"
   ]
  },
  {
   "cell_type": "code",
   "execution_count": 19,
   "id": "52d2c74d",
   "metadata": {},
   "outputs": [],
   "source": [
    "test_true_labels = [sample['label'] for sample in test_dataset]"
   ]
  },
  {
   "cell_type": "code",
   "execution_count": 20,
   "id": "447437f6",
   "metadata": {},
   "outputs": [
    {
     "data": {
      "image/png": "[encoded data removed]",
      "text/plain": [
       "<Figure size 1000x800 with 2 Axes>"
      ]
     },
     "metadata": {},
     "output_type": "display_data"
    }
   ],
   "source": [
    "plot_confusion_matrix(test_true_labels, pseo_preds, is_normalized=True, title_str=' on Pseudo DD set')"
   ]
  },
  {
   "cell_type": "code",
   "execution_count": 70,
   "id": "d1962942",
   "metadata": {},
   "outputs": [],
   "source": [
    "with open('data/pseudoDD', 'wb') as f:\n",
    "    pkl.dump(df_pseudoDD, f)\n",
    "    pkl.dump(pseo_preds, f)\n",
    "    "
   ]
  }
 ],
 "metadata": {
  "kernelspec": {
   "display_name": "dam",
   "language": "python",
   "name": "python3"
  },
  "language_info": {
   "codemirror_mode": {
    "name": "ipython",
    "version": 3
   },
   "file_extension": ".py",
   "mimetype": "text/x-python",
   "name": "python",
   "nbconvert_exporter": "python",
   "pygments_lexer": "ipython3",
   "version": "3.8.18"
  }
 },
 "nbformat": 4,
 "nbformat_minor": 5
}
